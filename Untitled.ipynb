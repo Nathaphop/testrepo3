{
 "cells": [
  {
   "cell_type": "code",
   "execution_count": 10,
   "id": "ddac1267",
   "metadata": {},
   "outputs": [],
   "source": [
    "doscript =[\n",
    "    'sysuse auto',\n",
    "    'xtile gr = price,nq(4)',\n",
    "    'tab foreign gr',\n",
    "    'tab gr foreign'\n",
    "]\n",
    "\n",
    "def createDofile(doscript):\n",
    "    f = open('pystata_song.do','w')\n",
    "    for ele in doscript:\n",
    "        f.write(ele+'\\n')"
   ]
  },
  {
   "cell_type": "code",
   "execution_count": 3,
   "id": "52c3e32b",
   "metadata": {},
   "outputs": [
    {
     "name": "stdout",
     "output_type": "stream",
     "text": [
      "\n",
      "  ___  ____  ____  ____  ____ (R)\n",
      " /__    /   ____/   /   ____/\n",
      "___/   /   /___/   /   /___/   16.0   Copyright 1985-2019 StataCorp LLC\n",
      "  Statistics/Data Analysis            StataCorp\n",
      "                                      4905 Lakeway Drive\n",
      "     MP - Parallel Edition            College Station, Texas 77845 USA\n",
      "                                      800-STATA-PC        http://www.stata.com\n",
      "                                      979-696-4600        stata@stata.com\n",
      "                                      979-696-4601 (fax)\n",
      "\n",
      "30-student 2-core Stata lab perpetual license:\n",
      "       Serial number:  501606204774\n",
      "         Licensed to:  Clinical Epidemiology and Clinical Statistic Center\n",
      "                       Faculty of Medicine, Chiang Mai University\n",
      "\n",
      "Notes:\n",
      "      1.  Stata is running in batch mode.\n",
      "      2.  Unicode is supported; see help unicode_advice.\n",
      "      3.  More than 2 billion observations are allowed; see help obs_advice.\n",
      "      4.  Maximum number of variables is set to 5000; see help set_maxvar.\n",
      "\n",
      ". do pystata_song.do \n",
      "\n",
      ". \n",
      "end of do-file\n"
     ]
    }
   ],
   "source": [
    "def runDofile(doscript): \n",
    "    createDofile(doscript)\n",
    "    !stata /e do pystata_song.do\n",
    "        \n",
    "    with open(r'pystata_song.log') as f:\n",
    "        lines = f.readlines()\n",
    "        for row in lines:\n",
    "            print(row.strip('\\n'))\n",
    "runDofile(doscript)"
   ]
  }
 ],
 "metadata": {
  "kernelspec": {
   "display_name": "Python 3 (ipykernel)",
   "language": "python",
   "name": "python3"
  },
  "language_info": {
   "codemirror_mode": {
    "name": "ipython",
    "version": 3
   },
   "file_extension": ".py",
   "mimetype": "text/x-python",
   "name": "python",
   "nbconvert_exporter": "python",
   "pygments_lexer": "ipython3",
   "version": "3.9.7"
  }
 },
 "nbformat": 4,
 "nbformat_minor": 5
}
